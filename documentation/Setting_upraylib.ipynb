{
 "cells": [
  {
   "cell_type": "markdown",
   "metadata": {},
   "source": [
    "# Setting Up Raylib in VS Code"
   ]
  },
  {
   "cell_type": "markdown",
   "metadata": {},
   "source": [
    "## Requirements:\n",
    "- Install **MinGW-w64** from [https://www.msys2.org](https://www.msys2.org)\n",
    "- Also install `gdb` (debugger) using MSYS2 terminal:\n"
   ]
  },
  {
   "cell_type": "code",
   "execution_count": null,
   "metadata": {
    "vscode": {
     "languageId": "c++"
    }
   },
   "outputs": [],
   "source": [
    "pacman -S mingw-w64-i686-gdb"
   ]
  },
  {
   "cell_type": "markdown",
   "metadata": {},
   "source": [
    "- Set the environment variable:\n",
    "  ```\n",
    "  C:\\msys64\\mingw64\\bin\\\n",
    "  ```"
   ]
  },
  {
   "cell_type": "markdown",
   "metadata": {},
   "source": [
    "## Download Raylib\n",
    "- Go to: [https://github.com/raysan5/raylib/releases](https://github.com/raysan5/raylib/releases)\n",
    "- Download and extract `raylib-5.5_win64_mingw-w64.zip`"
   ]
  },
  {
   "cell_type": "markdown",
   "metadata": {},
   "source": [
    "## VS Code Configuration Files"
   ]
  },
  {
   "cell_type": "markdown",
   "metadata": {},
   "source": [
    "### `tasks.json`"
   ]
  },
  {
   "cell_type": "code",
   "execution_count": null,
   "metadata": {
    "vscode": {
     "languageId": "c++"
    }
   },
   "outputs": [],
   "source": [
    "{\n",
    "  \"version\": \"2.0.0\",\n",
    "  \"tasks\": [\n",
    "    {\n",
    "      \"label\": \"Build Raylib Project\",\n",
    "      \"type\": \"shell\",\n",
    "      \"command\": \"g++\",\n",
    "      \"args\": [\n",
    "        \"main.cpp\",\n",
    "        \"-o\",\n",
    "        \"main.exe\",\n",
    "        \"-I\",\n",
    "        \"C:/raylib/include\",\n",
    "        \"-L\",\n",
    "        \"C:/raylib/lib\",\n",
    "        \"-lraylib\",\n",
    "        \"-lopengl32\",\n",
    "        \"-lgdi32\",\n",
    "        \"-lwinmm\"\n",
    "      ],\n",
    "      \"group\": {\n",
    "        \"kind\": \"build\",\n",
    "        \"isDefault\": true\n",
    "      },\n",
    "      \"problemMatcher\": [\"$gcc\"]\n",
    "    }\n",
    "  ]\n",
    "}"
   ]
  },
  {
   "cell_type": "markdown",
   "metadata": {},
   "source": [
    "### `launch.json`"
   ]
  },
  {
   "cell_type": "code",
   "execution_count": null,
   "metadata": {
    "vscode": {
     "languageId": "c++"
    }
   },
   "outputs": [],
   "source": [
    "{\n",
    "  \"version\": \"0.2.0\",\n",
    "  \"configurations\": [\n",
    "    {\n",
    "      \"name\": \"Debug Raylib App\",\n",
    "      \"type\": \"cppdbg\",\n",
    "      \"request\": \"launch\",\n",
    "      \"program\": \"${workspaceFolder}/main.exe\",\n",
    "      \"args\": [],\n",
    "      \"stopAtEntry\": false,\n",
    "      \"cwd\": \"${workspaceFolder}\",\n",
    "      \"environment\": [],\n",
    "      \"externalConsole\": true,\n",
    "      \"MIMode\": \"gdb\",\n",
    "      \"miDebuggerPath\": \"C:/msys64/mingw64/bin/gdb.exe\",\n",
    "      \"setupCommands\": [\n",
    "        {\n",
    "          \"description\": \"Enable pretty-printing for gdb\",\n",
    "          \"text\": \"-enable-pretty-printing\",\n",
    "          \"ignoreFailures\": true\n",
    "        }\n",
    "      ]\n",
    "    }\n",
    "  ]\n",
    "}"
   ]
  },
  {
   "cell_type": "markdown",
   "metadata": {},
   "source": [
    "### `c_cpp_properties.json`"
   ]
  },
  {
   "cell_type": "code",
   "execution_count": null,
   "metadata": {
    "vscode": {
     "languageId": "c++"
    }
   },
   "outputs": [],
   "source": [
    "{\n",
    "  \"configurations\": [\n",
    "    {\n",
    "      \"name\": \"Win32\",\n",
    "      \"includePath\": [\n",
    "        \"${workspaceFolder}\",\n",
    "        \"C:/raylib/include\"\n",
    "      ],\n",
    "      \"defines\": [],\n",
    "      \"compilerPath\": \"C:/msys64/ucrt64/bin/g++.exe\",\n",
    "      \"cStandard\": \"c11\",\n",
    "      \"cppStandard\": \"c++17\",\n",
    "      \"intelliSenseMode\": \"windows-gcc-x64\"\n",
    "    }\n",
    "  ],\n",
    "  \"version\": 4\n",
    "}"
   ]
  },
  {
   "cell_type": "markdown",
   "metadata": {},
   "source": [
    "## Running the Program\n",
    "- **Build the program**: `Ctrl + Shift + B`\n",
    "- **Run the program**: `Fn + F5`"
   ]
  }
 ],
 "metadata": {
  "kernelspec": {
   "display_name": "C++",
   "language": "C++",
   "name": "c++"
  },
  "language_info": {
   "name": "C++"
  }
 },
 "nbformat": 4,
 "nbformat_minor": 2
}
